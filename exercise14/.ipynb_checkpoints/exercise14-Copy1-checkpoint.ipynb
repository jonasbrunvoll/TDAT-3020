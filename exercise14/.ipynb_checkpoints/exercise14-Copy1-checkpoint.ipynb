{
 "cells": [
  {
   "cell_type": "markdown",
   "metadata": {},
   "source": [
    "# Øving 14\n",
    "\n",
    "Task 1"
   ]
  },
  {
   "cell_type": "code",
   "execution_count": 5,
   "metadata": {},
   "outputs": [
    {
     "name": "stdout",
     "output_type": "stream",
     "text": [
      "Svar:  2\n"
     ]
    }
   ],
   "source": [
    "mathProblem = (232 + 22 * 77 - 18*18) % 8 \n",
    "print(\"Svar: \", mathProblem)"
   ]
  },
  {
   "cell_type": "markdown",
   "metadata": {},
   "source": [
    "232 + 22 * 77 - 18*18 (mod 8)\n",
    "8*29 + 6 + 5 - 4      (mod 8)\n",
    "0 + 26                (mod 8)\n",
    "= 2"
   ]
  },
  {
   "cell_type": "markdown",
   "metadata": {},
   "source": [
    "Task 2a"
   ]
  },
  {
   "cell_type": "code",
   "execution_count": 6,
   "metadata": {},
   "outputs": [
    {
     "name": "stdout",
     "output_type": "stream",
     "text": [
      "\n",
      "TASK 2a\n",
      "Mulitplication Table:\n",
      "\n",
      " [[ 1.  2.  3.  4.  5.  6.  7.  8.  9. 10. 11.]\n",
      " [ 2.  4.  6.  8. 10.  0.  2.  4.  6.  8. 10.]\n",
      " [ 3.  6.  9.  0.  3.  6.  9.  0.  3.  6.  9.]\n",
      " [ 4.  8.  0.  4.  8.  0.  4.  8.  0.  4.  8.]\n",
      " [ 5. 10.  3.  8.  1.  6. 11.  4.  9.  2.  7.]\n",
      " [ 6.  0.  6.  0.  6.  0.  6.  0.  6.  0.  6.]\n",
      " [ 7.  2.  9.  4. 11.  6.  1.  8.  3. 10.  5.]\n",
      " [ 8.  4.  0.  8.  4.  0.  8.  4.  0.  8.  4.]\n",
      " [ 9.  6.  3.  0.  9.  6.  3.  0.  9.  6.  3.]\n",
      " [10.  8.  6.  4.  2.  0. 10.  8.  6.  4.  2.]\n",
      " [11. 10.  9.  8.  7.  6.  5.  4.  3.  2.  1.]]\n",
      "\n",
      "TASK 2b\n",
      "Multiplicativ Inverses are:\n",
      "\n",
      " [[1, 1], [5, 5], [7, 7], [11, 11]]\n"
     ]
    }
   ],
   "source": [
    "import numpy as np\n",
    "\n",
    "def mulitplicationTable(z):\n",
    "    matrix = np.zeros([z - 1, z - 1])\n",
    "    for x in range(1, z):\n",
    "        for y in range(1, z):\n",
    "            matrix[x-1][y-1] = x*y % z\n",
    "    return matrix\n",
    "\n",
    "def findMultiplicativInvers(matrix):\n",
    "    arr = []\n",
    "    for i in range(len(matrix)):\n",
    "        for j in range(len(matrix)):\n",
    "            if (matrix[i][j] == 1):\n",
    "                arr.append([i + 1, j + 1])\n",
    "    return arr\n",
    "\n",
    "\n",
    "# TASK 2a\n",
    "matrix = mulitplicationTable(12)\n",
    "print(\"\\nTASK 2a\\nMulitplication Table:\\n\\n\", matrix)\n",
    "\n",
    "# TASK 2b\n",
    "z = findMultiplicativInvers(matrix)    \n",
    "print(\"\\nTASK 2b\\nMultiplicativ Inverses are:\\n\\n\", z)"
   ]
  },
  {
   "cell_type": "markdown",
   "metadata": {},
   "source": [
    "Task 2c\n",
    "For å gå 1 i en rekke / kolonne må det eksistere et tall i settet som er relativt primisk med mod 12. \n",
    "For å få 0 i en rekke / kolonne kan det ikke eksistere et tall i settet som er relativt primisk med mod 12.  \n",
    "Dette er en enten eller situasjon og det er grunnen til at man ikke kan ha 0 og en 1 i samme rad/kolonne."
   ]
  },
  {
   "cell_type": "markdown",
   "metadata": {},
   "source": [
    "Task 3"
   ]
  },
  {
   "cell_type": "markdown",
   "metadata": {},
   "source": [
    "Task 3"
   ]
  },
  {
   "cell_type": "code",
   "execution_count": 7,
   "metadata": {},
   "outputs": [],
   "source": [
    "import numpy as np\n",
    "\n",
    "\n",
    "def findDeterminantMatrix(matrix):\n",
    "    det = int(np.linalg.det(matrix))\n",
    "    return det\n",
    "\n",
    "def findInversMatrix(matrix):\n",
    "    inv = np.linalg.inv(matrix) * np.linalg.det(matrix)\n",
    "    return inv\n",
    "\n",
    "def findInversMatrixOver_Z(matrix, z):\n",
    "    det = findDeterminantMatrix(matrix)\n",
    "    z_det_mod = det % len(z)\n",
    "    multiplicativInv_z = findMultiplicativInvers(z)\n",
    "    det_in_multipl_inverse = False\n",
    "    \n",
    "    \n",
    "    for x in multiplicativInv_z:\n",
    "        if z_det_mod in x:\n",
    "            det_in_multipl_inverse = True\n",
    "            \n",
    "    if (det_in_multipl_inverse):\n",
    "        matrixInv = findInversMatrix(matrix)\n",
    "        return matrixInv\n",
    "    else:\n",
    "        return None\n",
    "       \n"
   ]
  },
  {
   "cell_type": "code",
   "execution_count": 8,
   "metadata": {},
   "outputs": [
    {
     "name": "stdout",
     "output_type": "stream",
     "text": [
      "\n",
      "a) Invers matrix over Z10 does exist:\n",
      " [[ 8.  1.]\n",
      " [-5.  2.]]\n",
      "\n",
      "b) Invers matrix over Z9: does exist:\n",
      " [[ 8.  1.]\n",
      " [-5.  2.]]\n"
     ]
    }
   ],
   "source": [
    "arr = np.array([[2, -1], [5, 8]])\n",
    "\n",
    "z9 = mulitplicationTable(10)\n",
    "z10 = mulitplicationTable(11)\n",
    "\n",
    "matrixOverZ10 = findInversMatrixOver_Z(arr, z10)\n",
    "matrixOverZ9 = findInversMatrixOver_Z(arr, z9)\n",
    "\n",
    "print('\\na) Invers matrix over Z10 does exist:\\n', matrixOverZ10)\n",
    "print('\\nb) Invers matrix over Z9: does exist:\\n', matrixOverZ9)"
   ]
  },
  {
   "cell_type": "markdown",
   "metadata": {},
   "source": [
    "Task 4\n",
    "\n",
    "a) Svar: Et enkelt substitusjonsschiffer med et alfabt med 29 tegn kan ha 29 forskjellige    nøkler. Her er vært tegn en perumatasjon av et annet tegn. Eksepel bokstaven 'a' gir 'b' og bokstaven 'b' gir 'k' \n",
    "\n",
    "b) Enkle grep Alice og Bob kan gjøre for å gjøre det vanskligere for Eva å tolke medlingene er å skrive dialekt, droppe vokaler, droppe dobble konsonanter, sende meldinger med utradisjonel settings oppbygging, osv.   \n",
    "\n",
    "\n",
    "c) Det finnes n! antall nøkler. Eks: 29! = 8.41761994*10^30. Det er veldig mange mulige nøkler! \n",
    " "
   ]
  },
  {
   "cell_type": "markdown",
   "metadata": {},
   "source": [
    "Task 5"
   ]
  },
  {
   "cell_type": "code",
   "execution_count": 9,
   "metadata": {},
   "outputs": [
    {
     "name": "stdout",
     "output_type": "stream",
     "text": [
      "---------------------------------------- ANSWER ----------------------------------------\n",
      "\n",
      "k =  12 \n",
      "Messege:  HJERNENERALENE \n",
      "\n",
      "--------------------------------------- Finished ---------------------------------------\n"
     ]
    }
   ],
   "source": [
    "# Functions\n",
    "def convertStringToNumbers(messege, alfabet, k):\n",
    "    numbers = []\n",
    "    for i in range(len(messege)):\n",
    "        for j in range(len(alfabet)):\n",
    "            if messege[i] == alfabet[j]:\n",
    "                numbers.append((j+k) % len(alfabet))\n",
    "    return numbers\n",
    "\n",
    "\n",
    "def convertNumbersToString(numbers, alfabet):\n",
    "    newmessage = []\n",
    "    for i in range(len(numbers)):\n",
    "        for j in range(len(alfabet)):\n",
    "            if numbers[i] == j:\n",
    "                newmessage.append(alfabet[j])\n",
    "    return newmessage\n",
    "\n",
    "\n",
    "# Task 5\n",
    "secretMessage = 'YÆVFB VBVFR ÅVBV'\n",
    "alfabet = 'ABCDEFGHIJKLMNOPQRSTUVWXYZÆØÅ'\n",
    "\n",
    "print('-'*40, 'ANSWER', '-'*40)\n",
    "for k in range(12, 13):\n",
    "    numbers = convertStringToNumbers(secretMessage, alfabet, k)\n",
    "    messege = convertNumbersToString(numbers, alfabet)\n",
    "\n",
    "    # convert 'messege' from array to string\n",
    "    printMessegeOut = ''\n",
    "    for i in messege:\n",
    "        printMessegeOut += i\n",
    "\n",
    "    print('\\nk = ', k, '\\nMessege: ', printMessegeOut, '\\n')\n",
    "print('-'*39, 'Finished', '-'*39)"
   ]
  },
  {
   "cell_type": "markdown",
   "metadata": {},
   "source": [
    "Task 6\n",
    "\n",
    "a) \n",
    "\n",
    "P = mengedne av mulig klartekst\n",
    "C = mengden av mulig kryptrt tekst\n",
    "K = mengden av mulige nøkler.\n",
    "N = antall tegg\n",
    "\n",
    "P = C = K = {x| 0 <= x N}\n",
    "    en_k(x1, x2 ...., xb) = (x1+k, x2+k...xb+k)(mod N)\n",
    "    de_l(x1, x2 ...., xb) = (x1-k, x2-k...xb-k)(mod N)\n",
    "\n",
    "b)\n",
    "Chiferet kan ha N^B antall forskjellige nøkler, hvor B er blokklengde og N antall mulige tegn. \n",
    "    "
   ]
  },
  {
   "cell_type": "markdown",
   "metadata": {},
   "source": [
    "Oppgave 7"
   ]
  },
  {
   "cell_type": "code",
   "execution_count": 48,
   "metadata": {},
   "outputs": [
    {
     "name": "stdout",
     "output_type": "stream",
     "text": [
      "a) :  cNqwøsrvIjIørGAsvvAq\n",
      "b) :  PIzzAEllErtACo\n"
     ]
    }
   ],
   "source": [
    "alfabet = \"abcdefghijklmnopqrstuvwxyzæøåABCDEFGHIJKLMNOPQRSTUVWXYZÆØÅ \"\n",
    "\n",
    "def findIndex(char):\n",
    "    for i in range(len(alfabet)):\n",
    "        if char == alfabet[i]:\n",
    "            return i\n",
    "\n",
    "def encryptMessege(messege, key):\n",
    "    secretMessege = ''\n",
    "    for i in range(len(messege)):\n",
    "        messege_pos = findIndex(messege[i])\n",
    "        key_pos = findIndex(key[i % len(key)])\n",
    "        secretMessege += alfabet[(messege_pos + key_pos) % len(alfabet)]\n",
    "    return secretMessege\n",
    "\n",
    "\n",
    "def decryptMessege(secretmessege, key):\n",
    "    messege = ''\n",
    "    for i in range(len(secretmessege)):\n",
    "        messege_pos = findIndex(secretmessege[i])\n",
    "        key_pos = findIndex(key[i % len(key)])\n",
    "        messege += alfabet[(messege_pos - key_pos) % len(alfabet)]\n",
    "    return messege\n",
    "\n",
    "# Task 7a\n",
    "messege = \"Nå er det snart helg\"\n",
    "key = \"torsk\"\n",
    "enryptedMessege = encryptMessege(messege, key)\n",
    "print('a) : ', enryptedMessege)\n",
    "\n",
    "# Task 7b\n",
    "messegeToDecrypt = 'QZQOBVCAFFKSDC'\n",
    "key2 = \"brus\"\n",
    "decryptedMessege = decryptMessege(messegeToDecrypt, key2)\n",
    "print('b) : ', decryptedMessege)\n",
    "\n",
    "\n",
    "\n"
   ]
  },
  {
   "cell_type": "markdown",
   "metadata": {},
   "source": [
    "c) 29^5 = 20511149 antall mulig nøkler med en lengde 5 på nøkkelen"
   ]
  },
  {
   "cell_type": "markdown",
   "metadata": {},
   "source": [
    "Task 8"
   ]
  },
  {
   "cell_type": "code",
   "execution_count": 265,
   "metadata": {},
   "outputs": [],
   "source": [
    "#Functions\n",
    "\n",
    "def convertStringToNumbers(messege, alfabet):\n",
    "    numbers = []\n",
    "    for i in range(len(messege)):\n",
    "        for j in range(len(alfabet)):\n",
    "            if messege[i] == alfabet[j]:\n",
    "                numbers.append(j)\n",
    "    return numbers\n",
    "\n",
    "def numberToChar(num, alfabet):\n",
    "    charIndex = 0\n",
    "    for j in range(len(alfabet)):\n",
    "        if num == j:\n",
    "            charIndex = num % len(alfabet) \n",
    "    return alfabet[charIndex]\n",
    "    \n",
    "\n",
    "def gcdExtended(a, b):\n",
    "    # Base Case\n",
    "    if a == 0:\n",
    "        return b, 0, 1\n",
    "\n",
    "    gcd, x1, y1 = gcdExtended(b % a, a)\n",
    "\n",
    "    # Update x and y using results of recursive\n",
    "    # call\n",
    "    x = y1 - (b // a) * x1\n",
    "    y = x1\n",
    "\n",
    "    return gcd, x, y\n",
    "\n",
    "\n",
    "def encrypt_Hill(messege, K_matrix, alph):\n",
    "    messege_vector = np.array(convertStringToNumbers(messege, alph)).reshape(-1, 2)\n",
    "    \n",
    "    chiper = \"\"\n",
    "    encryptList = []\n",
    "    \n",
    "    for row in messege_vector:\n",
    "        encryption = (row @ K_matrix)%len(alph)\n",
    "        encryptList.append(encryption)\n",
    "    \n",
    "    for row in encryptList:\n",
    "        for column in row:\n",
    "            chiper += numberToChar(column, alph)\n",
    "        \n",
    "    return chiper\n",
    "\n",
    "\n",
    "def decrypt_Hill(messege, K_matrix, alph):\n",
    "    inv_K_matrix = findInversMatrix(K_matrix)\n",
    "    messege_vector = np.array(convertStringToNumbers(messege, alph)).reshape(-1, 2)\n",
    "    \n",
    "    detK = round(np.linalg.det(k))\n",
    "    x = gcdExtended(detK, len(alph))[1]\n",
    "    \n",
    "    chiper = \"\"\n",
    "    decryptList = []\n",
    "    for row in messege_vector:\n",
    "        decryption = (row@(invK * x))% len(alph)\n",
    "        decryptList.append(decryption)\n",
    "    \n",
    "    \n",
    "    for row in decryptList:\n",
    "        for column in row:\n",
    "            chiper += (numberToChar(round(column), alph))\n",
    "        \n",
    "    \n",
    "    return chiper\n",
    "\n",
    "    "
   ]
  },
  {
   "cell_type": "code",
   "execution_count": 267,
   "metadata": {},
   "outputs": [
    {
     "name": "stdout",
     "output_type": "stream",
     "text": [
      "\n",
      "Task 8a: \n",
      "K =\n",
      " [[11  8]\n",
      " [ 3  7]] \n",
      "\n",
      "invK =\n",
      " [[ 7. -8.]\n",
      " [-3. 11.]]\n",
      "\n",
      "Task 8b:\n",
      "Encryption er:  NHID\n",
      "\n",
      "Task 8b:\n",
      "Decryption er: PRIM\n",
      "\n",
      "Task 8c:\n",
      "Decryption er: FREDAG\n"
     ]
    }
   ],
   "source": [
    "alph = 'ABCDEFGHIJKLMNOPQRSTUVWXYZÆØÅ'\n",
    "messege = 'PRIM'\n",
    "secretMessege = 'NHID'\n",
    "\n",
    "# Task 8a\n",
    "k = np.array([[11, 8], [3,7]])\n",
    "z29 = mulitplicationTable(29)\n",
    "invK = findInversMatrixOver_Z(k, z29)\n",
    "print('\\nTask 8a: \\nK =\\n',k, '\\n\\ninvK =\\n', invK)\n",
    "\n",
    "\n",
    "# Task 8b\n",
    "s = encrypt_Hill(messege, k, alph)\n",
    "print('\\nTask 8b:\\nEncryption er: ',s)\n",
    "\n",
    "\n",
    "# Task 8c\n",
    "#t = decrypt_Hill(secretMessege, k, alph)\n",
    "\n",
    "print('\\nTask 8b:\\nDecryption er:',t)\n",
    "\n",
    "w = decrypt_Hill('TOYYSN', k, alph)\n",
    "print('\\nTask 8c:\\nDecryption er:',w)\n",
    "\n",
    "\n",
    "\n",
    "\n"
   ]
  },
  {
   "attachments": {},
   "cell_type": "markdown",
   "metadata": {},
   "source": [
    "Task 8d erløst på ark."
   ]
  }
 ],
 "metadata": {
  "kernelspec": {
   "display_name": "Python 3",
   "language": "python",
   "name": "python3"
  },
  "language_info": {
   "codemirror_mode": {
    "name": "ipython",
    "version": 3
   },
   "file_extension": ".py",
   "mimetype": "text/x-python",
   "name": "python",
   "nbconvert_exporter": "python",
   "pygments_lexer": "ipython3",
   "version": "3.8.3"
  }
 },
 "nbformat": 4,
 "nbformat_minor": 4
}
